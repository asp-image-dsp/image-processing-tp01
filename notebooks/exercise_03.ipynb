{
 "cells": [
  {
   "cell_type": "markdown",
   "metadata": {},
   "source": [
    "# Ejercicio 03\n",
    "Para la medición de la resolución real de una cámara se utilizó un celular Samsung Galaxy J4, y según sus especificaciones posee una resolución de 13MP en la cámara trasera. Además, para las mediciones se empleó un calibre de precisión 0,02mm."
   ]
  },
  {
   "cell_type": "markdown",
   "metadata": {},
   "source": [
    "## Sosteniendo la cámara con las manos\n",
    "Se saca una fotografía con la cámara a un metro de distancia del abaco de referencia, sosteniendo la cámara con las manos, es decir sin utilizar ningún tipo de apoyo estable. Observando la imagen resultante, se observa que la cámara deja de resolver aquellas líneas que se encuentran en la zona delimitada por las marcas 4 y 5, y se procede a medir el espesor de tales líneas.\n",
    "\n",
    "![title](../exercises/ex3_hand.jpg)\n",
    "\n",
    "Entonces, se midió que el espesor de la línea es,\n",
    "$$l = 0,22mm$$\n",
    "\n",
    "Por otro lado, la hoja A4 mide 210mm x 297mm, por ende asumiendo que los píxeles son cuadrados, se puede estimar la cantidad de píxeles que cubren la hoja dentro de la imagen.\n",
    "\n",
    "$$píxeles\\ en\\ hoja = \\frac{210mm\\cdot 297mm}{(0,22mm)^2} = 1,289 MP$$\n",
    "\n",
    "Normalmente, para calcular la resolución de la cámara, debería utilizarse el tamaño que abarca la imagen, no obstante como ocupaba un área mucho mayor que la hoja utilizada, buscar medir el área abarcada podía resultar en una tarea poco precisa y tediosa. Por ende, se decidió estimar qué area de la imagen ocupa la hoja, de esta forma se puede realizar una regla de tres simples para poder conocer la cantidad de píxeles de la imagen a partir de los píxeles de la hoja.\n",
    "\n",
    "![title](../resources/imagen_ex_03.png)\n",
    "\n",
    "Entonces, el área de la hoja A4 con respecto al área que abarca la imagen es,\n",
    "\n",
    "$$\\alpha = \\frac{(2088-1084) \\cdot (2878-1434)}{4128 \\cdot 3096} = 0,1134$$\n",
    "\n",
    "Finalmente, como la cantidad de píxeles de la hoja cubren el 11,34% de la imagen, se deduce que la imagen posee,\n",
    "\n",
    "$$píxeles\\ en\\ imagen = \\frac{1,289 MP}{0,1134} = 11,367 MP$$"
   ]
  },
  {
   "cell_type": "markdown",
   "metadata": {},
   "source": [
    "## Sosteniendo la cámara con apoyo estable\n",
    "Se saca una fotografía con la cámara a un poco más de un metro de distancia del abaco de referencia, sosteniendo la cámara con un soporte para estabilizar la cámara y empleando un temporizador. Observando la imagen resultante, se observa que la cámara deja de resolver aquellas líneas que se encuentran en la zona delimitada por las marcas 3 y 4. Se pueden notar dos diferencias esenciales con respecto al experimento anterior, por un lado las líneas las deja de resolver en una marca más gruesa, eso se debe a que la ubicación de la cámara estaba a una distancia mayor. Por otro lado, si se observa dónde deja de resolver las líneas horizontalmente y verticalmente, los lugares coinciden, y por ende resulta razonable asumir que los píxeles son cuadrados. Esto no sucedía cuando se sostenía con las manos la cámara, lo cual se debe a que la cámara no estaba estable y el resultado se vió afectado por el movimiento ligero de la misma.\n",
    "\n",
    "![title](../exercises/ex3_tripod.jpg)\n",
    "\n",
    "Entonces, se midió que el espesor de la línea es,\n",
    "$$l = 0,28mm$$\n",
    "\n",
    "Por otro lado, la hoja A4 mide 210mm x 297mm, por ende asumiendo que los píxeles son cuadrados, se puede estimar la cantidad de píxeles que cubren la hoja dentro de la imagen.\n",
    "\n",
    "$$píxeles\\ en\\ hoja = \\frac{210mm\\cdot 297mm}{(0,28mm)^2} = 795,54 kP$$\n",
    "\n",
    "Normalmente, para calcular la resolución de la cámara, debería utilizarse el tamaño que abarca la imagen, no obstante como ocupaba un área mucho mayor que la hoja utilizada, buscar medir el área abarcada podía resultar en una tarea poco precisa y tediosa. Por ende, se decidió estimar qué area de la imagen ocupa la hoja, de esta forma se puede realizar una regla de tres simples para poder conocer la cantidad de píxeles de la imagen a partir de los píxeles de la hoja.\n",
    "\n",
    "![title](../resources/imagen_ex_03_b.png)\n",
    "\n",
    "Entonces, el área de la hoja A4 con respecto al área que abarca la imagen es,\n",
    "\n",
    "$$\\alpha = \\frac{(2135-1059) \\cdot (2522-1758)}{4128 \\cdot 3096} = 0,0643$$\n",
    "\n",
    "Finalmente, como la cantidad de píxeles de la hoja cubren el 11,34% de la imagen, se deduce que la imagen posee,\n",
    "\n",
    "$$píxeles\\ en\\ imagen = \\frac{795,54 kP}{0,0643} = 12,37 MP$$"
   ]
  },
  {
   "cell_type": "markdown",
   "metadata": {},
   "source": [
    "## Conclusión\n",
    "La medición de la resolución fue más cercana al valor especificado por el fabricante del celular cuando se empleó un soporte que mantuviera estable la cámara, que resulta razonable dado que de esta forma no hay movimientos que afecten a la imagen capturada e introduzcan errores. Por otro lado, el valor resultante es menor que el valor nominal de la resolución, esto se podría deber a que en realidad la cámara no posee esa resolución ya sea por desperfectos en la manufactura o bien por desgaste durante su uso, pero también podría ser un problema del experimento. Esto último se debe a que, por ejemplo, al medir el espesor de la línea se haya cometido error porque aunque se utilizó un elemento de precisión, el tamaño de la línea es tal que se pudo haber producido error de medición humano."
   ]
  }
 ],
 "metadata": {
  "kernelspec": {
   "display_name": "Python 3",
   "language": "python",
   "name": "python3"
  },
  "language_info": {
   "codemirror_mode": {
    "name": "ipython",
    "version": 3
   },
   "file_extension": ".py",
   "mimetype": "text/x-python",
   "name": "python",
   "nbconvert_exporter": "python",
   "pygments_lexer": "ipython3",
   "version": "3.8.5"
  }
 },
 "nbformat": 4,
 "nbformat_minor": 4
}
